{
  "metadata": {
    "language_info": {
      "codemirror_mode": {
        "name": "python",
        "version": 3
      },
      "file_extension": ".py",
      "mimetype": "text/x-python",
      "name": "python",
      "nbconvert_exporter": "python",
      "pygments_lexer": "ipython3",
      "version": "3.8"
    },
    "kernelspec": {
      "name": "python",
      "display_name": "Python (Pyodide)",
      "language": "python"
    }
  },
  "nbformat_minor": 4,
  "nbformat": 4,
  "cells": [
    {
      "cell_type": "markdown",
      "source": "<p style=\"text-align:center\">\n    <a href=\"https://skills.network\" target=\"_blank\">\n    <img src=\"https://cf-courses-data.s3.us.cloud-object-storage.appdomain.cloud/assets/logos/SN_web_lightmode.png\" width=\"200\" alt=\"Skills Network Logo\">\n    </a>\n</p>\n",
      "metadata": {}
    },
    {
      "cell_type": "markdown",
      "source": "# **Practice Assignment - Part 1: Analyzing wildfire activities in Australia** \n\nEstimated time needed: **40** minutes\n",
      "metadata": {}
    },
    {
      "cell_type": "markdown",
      "source": "# __Table of Contents__\n\n<ol>\n    <li><a href=\"#Objectives\">Objectives</a></li>\n    <li>\n        <a href=\"#Setup\">Setup</a>\n        <ol>\n            <li><a href=\"#Installing-Required-Libraries\">Installing Required Libraries</a></li>\n            <li><a href=\"#Importing-Required-Libraries\">Importing Required Libraries</a></li>\n    </li>\n    <li>\n        <a href=\"#Dataset\">Dataset</a>\n    </li>\n    <li><a href=\"#Importing Dataset\">Importing Dataset</a></li>\n    <li><a href=\"#Practice Tasks\">Practice Tasks</a></li>\n   \n",
      "metadata": {}
    },
    {
      "cell_type": "markdown",
      "source": "---\n",
      "metadata": {}
    },
    {
      "cell_type": "markdown",
      "source": "# Objectives\n\nAfter completing this lab you will be able to:\n\n - Use visualization libraries such as Matplotlib, Pandas, Seaborn and Folium to create informative plots and charts \n",
      "metadata": {}
    },
    {
      "cell_type": "markdown",
      "source": "---\n",
      "metadata": {}
    },
    {
      "cell_type": "markdown",
      "source": "# Setup\n",
      "metadata": {}
    },
    {
      "cell_type": "markdown",
      "source": "For this lab, we will be using the following libraries:\n\n*   [`pandas`](https://pandas.pydata.org/?utm_medium=Exinfluencer&utm_source=Exinfluencer&utm_content=000026UJ&utm_term=10006555&utm_id=NA-SkillsNetwork-Channel-SkillsNetworkCoursesIBMML0187ENSkillsNetwork31430127-2021-01-01) for managing the data.\n*   [`numpy`](https://numpy.org/?utm_medium=Exinfluencer&utm_source=Exinfluencer&utm_content=000026UJ&utm_term=10006555&utm_id=NA-SkillsNetwork-Channel-SkillsNetworkCoursesIBMML0187ENSkillsNetwork31430127-2021-01-01) for mathematical operations.\n*   [`seaborn`](https://seaborn.pydata.org/?utm_medium=Exinfluencer&utm_source=Exinfluencer&utm_content=000026UJ&utm_term=10006555&utm_id=NA-SkillsNetwork-Channel-SkillsNetworkCoursesIBMML0187ENSkillsNetwork31430127-2021-01-01) for visualizing the data.\n*   [`matplotlib`](https://matplotlib.org/?utm_medium=Exinfluencer&utm_source=Exinfluencer&utm_content=000026UJ&utm_term=10006555&utm_id=NA-SkillsNetwork-Channel-SkillsNetworkCoursesIBMML0187ENSkillsNetwork31430127-2021-01-01) for additional plotting tools.\n",
      "metadata": {}
    },
    {
      "cell_type": "markdown",
      "source": "### Installing Required Libraries\n\nThe following required libraries are pre-installed in the Skills Network Labs environment. However, if you run this notebook commands in a different Jupyter environment (e.g. Watson Studio or Ananconda), you will need to install these libraries by removing the `#` sign before `%pip` in the code cell below.\n",
      "metadata": {}
    },
    {
      "cell_type": "code",
      "source": "# All Libraries required for this lab are listed below. The libraries pre-installed on Skills Network Labs are commented.\n#%pip install -qy pandas==1.3.4 numpy==1.21.4 seaborn==0.9.0 matplotlib==3.5.0 folium\n# Note: If your environment doesn't support \"%pip install\", use \"!mamba install\"",
      "metadata": {},
      "execution_count": null,
      "outputs": []
    },
    {
      "cell_type": "code",
      "source": "%pip install seaborn\n%pip install folium",
      "metadata": {
        "trusted": true
      },
      "execution_count": 1,
      "outputs": []
    },
    {
      "cell_type": "markdown",
      "source": "### Importing Required Libraries\n\n_We recommend you import all required libraries in one place (here):_\n",
      "metadata": {}
    },
    {
      "cell_type": "code",
      "source": "import numpy as np\nimport pandas as pd\nimport matplotlib.pyplot as plt\nimport seaborn as sns\nimport folium\n%matplotlib inline",
      "metadata": {
        "trusted": true
      },
      "execution_count": 2,
      "outputs": []
    },
    {
      "cell_type": "markdown",
      "source": "---\n",
      "metadata": {}
    },
    {
      "cell_type": "markdown",
      "source": "# Dataset\n\n**Historical Wildfires**\n\nThis wildfire dataset contains data on fire activities in Australia starting from 2005. Additional information can be found [here](https://earthdata.nasa.gov/earth-observation-data/near-real-time/firms/c6-mcd14dl).\n\nVariables\n\n- Region: the 7 regions\n- Date: in UTC and provide the data for 24 hours ahead\n- Estimated_fire_area: daily sum of estimated fire area for presumed vegetation fires with a confidence > 75% for a each region in km2\n- Mean_estimated_fire_brightness: daily mean (by flagged fire pixels(=count)) of estimated fire brightness for presumed vegetation fires with a confidence level > 75% in Kelvin\n- Mean_estimated_fire_radiative_power: daily mean of estimated radiative power for presumed vegetation fires with a confidence level > 75% for a given region in megawatts\n- Mean_confidence: daily mean of confidence for presumed vegetation fires with a confidence level > 75%\n- Std_confidence: standard deviation of estimated fire radiative power in megawatts\n- Var_confidence: Variance of estimated fire radiative power in megawatts\n- Count: daily numbers of pixels for presumed vegetation fires with a confidence level of larger than 75% for a given region\n- Replaced: Indicates with an Y whether the data has been replaced with standard quality data when they are available (usually with a 2-3 month lag). Replaced data has a slightly higher quality in terms of locations\n",
      "metadata": {}
    },
    {
      "cell_type": "markdown",
      "source": "---\n",
      "metadata": {}
    },
    {
      "cell_type": "markdown",
      "source": "### Importing Data\n",
      "metadata": {}
    },
    {
      "cell_type": "code",
      "source": "from js import fetch\nimport io\n\nURL = \"https://cf-courses-data.s3.us.cloud-object-storage.appdomain.cloud/IBMDeveloperSkillsNetwork-DV0101EN-SkillsNetwork/Data%20Files/Historical_Wildfires.csv\"\nresp = await fetch(URL)\ntext = io.BytesIO((await resp.arrayBuffer()).to_py())\ndf = pd.read_csv(text)\nprint('Data read into a pandas dataframe!')\n",
      "metadata": {
        "trusted": true
      },
      "execution_count": 3,
      "outputs": [
        {
          "name": "stdout",
          "text": "Data read into a pandas dataframe!\n",
          "output_type": "stream"
        }
      ]
    },
    {
      "cell_type": "markdown",
      "source": "Let's look at some samples rows from the dataset we loaded:\n",
      "metadata": {}
    },
    {
      "cell_type": "code",
      "source": "df.head()",
      "metadata": {
        "trusted": true
      },
      "execution_count": 4,
      "outputs": [
        {
          "execution_count": 4,
          "output_type": "execute_result",
          "data": {
            "text/plain": "  Region      Date  Estimated_fire_area  Mean_estimated_fire_brightness  \\\n0    NSW  1/4/2005              8.68000                      312.266667   \n1    NSW  1/5/2005             16.61125                      322.475000   \n2    NSW  1/6/2005              5.52000                      325.266667   \n3    NSW  1/7/2005              6.26400                      313.870000   \n4    NSW  1/8/2005              5.40000                      337.383333   \n\n   Mean_estimated_fire_radiative_power  Mean_confidence  Std_confidence  \\\n0                            42.400000        78.666667        2.886751   \n1                            62.362500        85.500000        8.088793   \n2                            38.400000        78.333333        3.214550   \n3                            33.800000        92.200000        7.529940   \n4                           122.533333        91.000000        7.937254   \n\n   Var_confidence  Count Replaced  \n0        8.333333      3        R  \n1       65.428571      8        R  \n2       10.333333      3        R  \n3       56.700000      5        R  \n4       63.000000      3        R  ",
            "text/html": "<div>\n<style scoped>\n    .dataframe tbody tr th:only-of-type {\n        vertical-align: middle;\n    }\n\n    .dataframe tbody tr th {\n        vertical-align: top;\n    }\n\n    .dataframe thead th {\n        text-align: right;\n    }\n</style>\n<table border=\"1\" class=\"dataframe\">\n  <thead>\n    <tr style=\"text-align: right;\">\n      <th></th>\n      <th>Region</th>\n      <th>Date</th>\n      <th>Estimated_fire_area</th>\n      <th>Mean_estimated_fire_brightness</th>\n      <th>Mean_estimated_fire_radiative_power</th>\n      <th>Mean_confidence</th>\n      <th>Std_confidence</th>\n      <th>Var_confidence</th>\n      <th>Count</th>\n      <th>Replaced</th>\n    </tr>\n  </thead>\n  <tbody>\n    <tr>\n      <th>0</th>\n      <td>NSW</td>\n      <td>1/4/2005</td>\n      <td>8.68000</td>\n      <td>312.266667</td>\n      <td>42.400000</td>\n      <td>78.666667</td>\n      <td>2.886751</td>\n      <td>8.333333</td>\n      <td>3</td>\n      <td>R</td>\n    </tr>\n    <tr>\n      <th>1</th>\n      <td>NSW</td>\n      <td>1/5/2005</td>\n      <td>16.61125</td>\n      <td>322.475000</td>\n      <td>62.362500</td>\n      <td>85.500000</td>\n      <td>8.088793</td>\n      <td>65.428571</td>\n      <td>8</td>\n      <td>R</td>\n    </tr>\n    <tr>\n      <th>2</th>\n      <td>NSW</td>\n      <td>1/6/2005</td>\n      <td>5.52000</td>\n      <td>325.266667</td>\n      <td>38.400000</td>\n      <td>78.333333</td>\n      <td>3.214550</td>\n      <td>10.333333</td>\n      <td>3</td>\n      <td>R</td>\n    </tr>\n    <tr>\n      <th>3</th>\n      <td>NSW</td>\n      <td>1/7/2005</td>\n      <td>6.26400</td>\n      <td>313.870000</td>\n      <td>33.800000</td>\n      <td>92.200000</td>\n      <td>7.529940</td>\n      <td>56.700000</td>\n      <td>5</td>\n      <td>R</td>\n    </tr>\n    <tr>\n      <th>4</th>\n      <td>NSW</td>\n      <td>1/8/2005</td>\n      <td>5.40000</td>\n      <td>337.383333</td>\n      <td>122.533333</td>\n      <td>91.000000</td>\n      <td>7.937254</td>\n      <td>63.000000</td>\n      <td>3</td>\n      <td>R</td>\n    </tr>\n  </tbody>\n</table>\n</div>"
          },
          "metadata": {}
        }
      ]
    },
    {
      "cell_type": "markdown",
      "source": "---\n",
      "metadata": {}
    },
    {
      "cell_type": "markdown",
      "source": "Let's verify the column names and the data type of each variable\n",
      "metadata": {}
    },
    {
      "cell_type": "code",
      "source": "#Column names\ndf.columns",
      "metadata": {
        "trusted": true
      },
      "execution_count": 5,
      "outputs": [
        {
          "execution_count": 5,
          "output_type": "execute_result",
          "data": {
            "text/plain": "Index(['Region', 'Date', 'Estimated_fire_area',\n       'Mean_estimated_fire_brightness', 'Mean_estimated_fire_radiative_power',\n       'Mean_confidence', 'Std_confidence', 'Var_confidence', 'Count',\n       'Replaced'],\n      dtype='object')"
          },
          "metadata": {}
        }
      ]
    },
    {
      "cell_type": "code",
      "source": "#data type\ndf.dtypes",
      "metadata": {
        "trusted": true
      },
      "execution_count": 6,
      "outputs": [
        {
          "execution_count": 6,
          "output_type": "execute_result",
          "data": {
            "text/plain": "Region                                  object\nDate                                    object\nEstimated_fire_area                    float64\nMean_estimated_fire_brightness         float64\nMean_estimated_fire_radiative_power    float64\nMean_confidence                        float64\nStd_confidence                         float64\nVar_confidence                         float64\nCount                                    int64\nReplaced                                object\ndtype: object"
          },
          "metadata": {}
        }
      ]
    },
    {
      "cell_type": "markdown",
      "source": "Notice the type of 'Date' is object, let's convert it to 'datatime' type and also let's extract 'Year' and 'Month' from date and include in the dataframe as separate columns\n",
      "metadata": {}
    },
    {
      "cell_type": "code",
      "source": "import datetime as dt\n\ndf['Year'] = pd.to_datetime(df['Date']).dt.year\ndf['Month'] = pd.to_datetime(df['Date']).dt.month\n",
      "metadata": {
        "trusted": true
      },
      "execution_count": 10,
      "outputs": []
    },
    {
      "cell_type": "markdown",
      "source": "**Verify the columns again**\n",
      "metadata": {}
    },
    {
      "cell_type": "code",
      "source": "#verify the columns again\ndf.dtypes",
      "metadata": {
        "trusted": true
      },
      "execution_count": 11,
      "outputs": [
        {
          "execution_count": 11,
          "output_type": "execute_result",
          "data": {
            "text/plain": "Region                                  object\nDate                                    object\nEstimated_fire_area                    float64\nMean_estimated_fire_brightness         float64\nMean_estimated_fire_radiative_power    float64\nMean_confidence                        float64\nStd_confidence                         float64\nVar_confidence                         float64\nCount                                    int64\nReplaced                                object\nYear                                     int64\nMonth                                    int64\ndtype: object"
          },
          "metadata": {}
        }
      ]
    },
    {
      "cell_type": "markdown",
      "source": "<details>\n    <summary>Click here for Solution</summary>\n\n```python\n    df.dtypes\n```\n\n</details>\n",
      "metadata": {}
    },
    {
      "cell_type": "markdown",
      "source": "---\n",
      "metadata": {}
    },
    {
      "cell_type": "markdown",
      "source": "## Practice Tasks\n",
      "metadata": {}
    },
    {
      "cell_type": "markdown",
      "source": "### TASK 1.1: Let's try to understand the change in average estimated fire area over time <br>(use pandas to plot)\n",
      "metadata": {}
    },
    {
      "cell_type": "markdown",
      "source": "<details>\n    <summary>Click here for a Hint</summary>\nYou will be required to group the year for 'Estimated_fire_area' (taking its mean)<br>Then use df.plot() on it to create a line graph\n\n</details>\n",
      "metadata": {}
    },
    {
      "cell_type": "code",
      "source": "# TODO\nplt.figure(figsize=(12, 6))\ndf_new=df.groupby('Year')['Estimated_fire_area'].mean()\ndf_new.plot(x=df_new.index, y=df_new.values)\nplt.xlabel('Year')\nplt.ylabel('Average Estimated Fire Area (km²)')\nplt.title('Estimated Fire Area over Time')\nplt.show()",
      "metadata": {
        "trusted": true
      },
      "execution_count": 12,
      "outputs": [
        {
          "output_type": "display_data",
          "data": {
            "text/plain": "<Figure size 1200x600 with 1 Axes>",
            "image/png": "[encoded data removed]"
          },
          "metadata": {}
        }
      ]
    },
    {
      "cell_type": "markdown",
      "source": "<details>\n    <summary>Click here for Solution</summary>\n\n```python\n    plt.figure(figsize=(12, 6))\n    df_new=df.groupby('Year')['Estimated_fire_area'].mean()\n    df_new.plot(x=df_new.index, y=df_new.values)\n    plt.xlabel('Year')\n    plt.ylabel('Average Estimated Fire Area (km²)')\n    plt.title('Estimated Fire Area over Time')\n    plt.show()\n```\n\n</details>\n",
      "metadata": {}
    },
    {
      "cell_type": "markdown",
      "source": "---\n",
      "metadata": {}
    },
    {
      "cell_type": "markdown",
      "source": "### TASK 1.2: You can notice the peak in the plot between 2010 to 2013. Let's narrow down our finding, by plotting the estimated fire area for year grouped together with month.\n",
      "metadata": {}
    },
    {
      "cell_type": "markdown",
      "source": "<details>\n    <summary>Click here for a Hint</summary>\nYou will be required to group the year and month for 'Estimated_fire_area' (taking its mean)<br>Then use df.plot() on it to create a line graph\n\n</details>\n",
      "metadata": {}
    },
    {
      "cell_type": "code",
      "source": "# TODO",
      "metadata": {},
      "execution_count": null,
      "outputs": []
    },
    {
      "cell_type": "markdown",
      "source": "<details>\n    <summary>Click here for Solution</summary>\n\n```python\n    df_new=df.groupby(['Year','Month'])['Estimated_fire_area'].mean()\n    df_new.plot(x=df_new.index, y=df_new.values)\n    plt.xlabel('Year, Month')\n    plt.ylabel('Average Estimated Fire Area (km²)')\n    plt.title('Estimated Fire Area over Time')\n    plt.show()\n```\n\n</details>\n",
      "metadata": {}
    },
    {
      "cell_type": "markdown",
      "source": "This plot represents that the estimated fire area was on its peak after 2011, April and before 2012. You can verify on google/news, this was the time of maximum wildfire hit in Austrailia\n",
      "metadata": {}
    },
    {
      "cell_type": "markdown",
      "source": "---\n",
      "metadata": {}
    },
    {
      "cell_type": "markdown",
      "source": "### TASK 1.3: Let's have an insight on the distribution of mean estimated fire brightness across the regions<br> use the functionality of seaborn to develop a barplot\n",
      "metadata": {}
    },
    {
      "cell_type": "markdown",
      "source": "before starting with the plot, why not know the regions mentioned in the dataset?. <br>Make use of unique() to identify the regions in the dataset (apply it on series only)\n",
      "metadata": {}
    },
    {
      "cell_type": "code",
      "source": "df['Region'].unique()",
      "metadata": {},
      "execution_count": null,
      "outputs": []
    },
    {
      "cell_type": "markdown",
      "source": "<details>\n    <summary>Click here for a Hint</summary>\nyou need to plot reions on x-axis and the 'Mean_estimated_fire_brightness' on y-axis.<br>Title it as 'Distribution of Mean Estimated Fire Brightness across Regions'\n</details>\n",
      "metadata": {}
    },
    {
      "cell_type": "code",
      "source": "#TODO",
      "metadata": {},
      "execution_count": null,
      "outputs": []
    },
    {
      "cell_type": "markdown",
      "source": "<details>\n    <summary>Click here for Solution</summary>\n\n```python\nplt.figure(figsize=(10, 6))\nsns.barplot(data=df, x='Region', y='Mean_estimated_fire_brightness')\nplt.xlabel('Region')\nplt.ylabel('Mean Estimated Fire Brightness (Kelvin)')\nplt.title('Distribution of Mean Estimated Fire Brightness across Regions')\nplt.show()\n```\n</details>\n",
      "metadata": {}
    },
    {
      "cell_type": "markdown",
      "source": "---\n",
      "metadata": {}
    },
    {
      "cell_type": "markdown",
      "source": "### TASK 1.4: Let's find the portion of count of pixels for presumed vegetation fires vary across regions<br> we will develop a pie chart for this\n",
      "metadata": {}
    },
    {
      "cell_type": "markdown",
      "source": "<details>\n    <summary>Click here for a Hint</summary>\nFirst you will  be required to group the data on region and find the sum of count\n</details>\n",
      "metadata": {}
    },
    {
      "cell_type": "code",
      "source": "",
      "metadata": {},
      "execution_count": null,
      "outputs": []
    },
    {
      "cell_type": "markdown",
      "source": "<details>\n    <summary>Click here for Solution</summary>\n\n```python\nplt.figure(figsize=(10, 6))\nregion_counts = df.groupby('Region')['Count'].sum()\nplt.pie(region_counts, labels=region_counts.index, autopct='%1.1f%%')\nplt.title('Percentage of Pixels for Presumed Vegetation Fires by Region')\nplt.axis('equal')\nplt.show()\n```\n</details>\n",
      "metadata": {}
    },
    {
      "cell_type": "markdown",
      "source": "### TASK 1.5: See the percentage on the pie is not looking so good as it is overlaped for Region SA, TA, VI \n\nremove the autopct fromm pie function and pass the following to plt.legend() after plt.title() <br>\n`[(i,round(k/region_counts.sum()*100,2)) for i,k in zip(region_counts.index, region_counts)]`\n",
      "metadata": {}
    },
    {
      "cell_type": "code",
      "source": "#TODO",
      "metadata": {},
      "execution_count": null,
      "outputs": []
    },
    {
      "cell_type": "markdown",
      "source": "---\n",
      "metadata": {}
    },
    {
      "cell_type": "markdown",
      "source": "### TASK 1.6: Let's try to develop a histogram of the mean estimated fire brightness<br> Using Matplotlib to create the histogram\n",
      "metadata": {}
    },
    {
      "cell_type": "markdown",
      "source": "<details>\n    <summary>Click here for a Hint</summary>\n    Call plt.hist() and pass df['Mean_estimated_fire_brightness'] as x\n</details>\n",
      "metadata": {}
    },
    {
      "cell_type": "code",
      "source": "#TODO",
      "metadata": {},
      "execution_count": null,
      "outputs": []
    },
    {
      "cell_type": "markdown",
      "source": "<details>\n    <summary>Click here for Solution</summary>\n\n```python\nplt.figure(figsize=(10, 6))\nplt.hist(x=df['Mean_estimated_fire_brightness'], bins=20)\nplt.xlabel('Mean Estimated Fire Brightness (Kelvin)')\nplt.ylabel('Count')\nplt.title('Histogram of Mean Estimated Fire Brightness')\nplt.show()\n```\n</details>\n",
      "metadata": {}
    },
    {
      "cell_type": "markdown",
      "source": "### TASK 1.7: What if we need to understand the distribution of estimated fire brightness across regions? Let's use the functionality of seaborn and  pass region as hue\n",
      "metadata": {}
    },
    {
      "cell_type": "code",
      "source": "",
      "metadata": {},
      "execution_count": null,
      "outputs": []
    },
    {
      "cell_type": "markdown",
      "source": "<details>\n    <summary>Click here for Solution</summary>\n\n```python\nsns.histplot(data=df, x='Mean_estimated_fire_brightness', hue='Region')\nplt.show()\n```\n</details>\n",
      "metadata": {}
    },
    {
      "cell_type": "markdown",
      "source": "### looks better!, now include the parameter `multiple='stack'` in the histplot() and see the difference. Include labels and titles as well\n",
      "metadata": {}
    },
    {
      "cell_type": "code",
      "source": "",
      "metadata": {},
      "execution_count": null,
      "outputs": []
    },
    {
      "cell_type": "markdown",
      "source": "<details>\n    <summary>Click here for Solution</summary>\n\n```python\nsns.histplot(data=df, x='Mean_estimated_fire_brightness', hue='Region', multiple='stack')\nplt.show()\n```\n</details>\n",
      "metadata": {}
    },
    {
      "cell_type": "markdown",
      "source": "---\n",
      "metadata": {}
    },
    {
      "cell_type": "markdown",
      "source": "### TASK 1.8: Let's try to find if there is any correlation between mean estimated fire radiative power and mean confidence level?\n",
      "metadata": {}
    },
    {
      "cell_type": "markdown",
      "source": "<details>\n    <summary>Click here for a Hint</summary>\n    Call plt.scatter() <br> or use the sns.scatterplot()\n</details>\n",
      "metadata": {}
    },
    {
      "cell_type": "code",
      "source": "",
      "metadata": {},
      "execution_count": null,
      "outputs": []
    },
    {
      "cell_type": "markdown",
      "source": "<details>\n    <summary>Click here for Solution</summary>\n\n```python\n    plt.figure(figsize=(8, 6))\n    sns.scatterplot(data=df, x='Mean_confidence', y='Mean_estimated_fire_radiative_power')\n    plt.xlabel('Mean Estimated Fire Radiative Power (MW)')\n    plt.ylabel('Mean Confidence')\n    plt.title('Mean Estimated Fire Radiative Power vs. Mean Confidence')\n    plt.show()\n```\n</details>\n",
      "metadata": {}
    },
    {
      "cell_type": "markdown",
      "source": "---\n",
      "metadata": {}
    },
    {
      "cell_type": "markdown",
      "source": "### TASK 1.9: Let's mark these seven regions on the Map of Australia using Folium\n<br> we have created a dataframe for you containing the regions, their latitudes and longitudes. <br> For australia use [-25, 135] as location to create the map\n",
      "metadata": {}
    },
    {
      "cell_type": "code",
      "source": "region_data = {'region':['NSW','QL','SA','TA','VI','WA','NT'], 'Lat':[-31.8759835,-22.1646782,-30.5343665,-42.035067,-36.5986096,-25.2303005,-19.491411], \n               'Lon':[147.2869493,144.5844903,135.6301212,146.6366887,144.6780052,121.0187246,132.550964]}\nreg=pd.DataFrame(region_data)\nreg",
      "metadata": {},
      "execution_count": null,
      "outputs": []
    },
    {
      "cell_type": "code",
      "source": "",
      "metadata": {},
      "execution_count": null,
      "outputs": []
    },
    {
      "cell_type": "markdown",
      "source": "<details>\n    <summary>Click here for Solution</summary>\n\n```python\n# instantiate a feature group \naus_reg = folium.map.FeatureGroup()\n\n# Create a Folium map centered on Australia\nAus_map = folium.Map(location=[-25, 135], zoom_start=4)\n\n# loop through the region and add to feature group\nfor lat, lng, lab in zip(reg.Lat, reg.Lon, reg.region):\n    aus_reg.add_child(\n        folium.features.CircleMarker(\n            [lat, lng],\n            popup=lab,\n            radius=5, # define how big you want the circle markers to be\n            color='red',\n            fill=True,\n            fill_color='blue',\n            fill_opacity=0.6\n        )\n    )\n\n# add incidents to map\nAus_map.add_child(aus_reg)\n```\n</details>\n",
      "metadata": {}
    },
    {
      "cell_type": "markdown",
      "source": "---\n",
      "metadata": {}
    },
    {
      "cell_type": "markdown",
      "source": "# Congratulations! You have completed the lab\n",
      "metadata": {}
    },
    {
      "cell_type": "markdown",
      "source": "## Authors\n",
      "metadata": {}
    },
    {
      "cell_type": "markdown",
      "source": "[Dr. Pooja](author_link)\n",
      "metadata": {}
    },
    {
      "cell_type": "markdown",
      "source": "## Change Log\n",
      "metadata": {}
    },
    {
      "cell_type": "markdown",
      "source": "|Date (YYYY-MM-DD)|Version|Changed By|Change Description|\n|-|-|-|-|\n|2023-06-281|0.2|Dr. Pooja|Initial Lab Creation|\n|2023-05-01|0.1|Shengkai|Create Lab Template|\n",
      "metadata": {}
    },
    {
      "cell_type": "markdown",
      "source": "Copyright © 2023 IBM Corporation. All rights reserved.\n",
      "metadata": {}
    }
  ]
}